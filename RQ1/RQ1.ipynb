{
 "cells": [
  {
   "cell_type": "code",
   "execution_count": 1,
   "metadata": {},
   "outputs": [],
   "source": [
    "import pandas as pd\n",
    "import numpy as np\n",
    "import seaborn as sns\n",
    "import statistics \n",
    "import csv\n",
    "import os\n",
    "import matplotlib.pyplot as plt\n",
    "from scipy.stats import mannwhitneyu\n",
    "from util.cliffsDelta import cliffsDelta\n",
    "from util.RQ1_projects import PROJECTS"
   ]
  },
  {
   "cell_type": "code",
   "execution_count": 2,
   "metadata": {},
   "outputs": [
    {
     "name": "stdout",
     "output_type": "stream",
     "text": [
      "['Unnamed: 0', 'X.', 'project', 'language', 'pull_id', 'pull_number', 'commits_per_pr', 'changed_files', 'churn', 'comments', 'comments_interval', 'merge_workload', 'description_length', 'contributor_experience', 'queue_rank', 'contributor_integration', 'stacktrace_attached', 'activities', 'merge_time', 'delivery_time', 'practice']\n",
      "(162653, 21)\n"
     ]
    }
   ],
   "source": [
    "requests_data = pd.read_csv('./pull_requests_meta_data.csv')\n",
    "print(list(requests_data))\n",
    "print(requests_data.shape)"
   ]
  },
  {
   "cell_type": "markdown",
   "metadata": {},
   "source": [
    "## original paper - RQ1"
   ]
  },
  {
   "cell_type": "code",
   "execution_count": 3,
   "metadata": {},
   "outputs": [],
   "source": [
    "time_data = pd.DataFrame()\n",
    "time_data = requests_data[['project','language','delivery_time','merge_time','practice']]"
   ]
  },
  {
   "cell_type": "code",
   "execution_count": 4,
   "metadata": {},
   "outputs": [
    {
     "name": "stdout",
     "output_type": "stream",
     "text": [
      "73 out of 87 projects have significant p-values\n",
      "32 out of 73 projects deliver merged PRs more quickly after adopting CI(compared by mean)\n",
      "35 out of 73 projects deliver merged PRs more quickly after adopting CI(compared by median)\n",
      "Median of Cliff's delta values:0.2837202038497371\n"
     ]
    }
   ],
   "source": [
    "# comparing the delivery time of merged PRs before and after adopting CI by mean value? \n",
    "smean_count, smedian_count, p_count = 0, 0, 0\n",
    "rq1_delivery_cliffs = []\n",
    "for name, group in time_data.groupby('project'):\n",
    "    x = group.loc[group.practice == 'CI']['delivery_time'].values\n",
    "    y = group.loc[group.practice == 'NO-CI']['delivery_time'].values\n",
    "    (statistic,pvalue) = mannwhitneyu(x,y)\n",
    "    \n",
    "    if pvalue < 0.05:\n",
    "        p_count += 1\n",
    "        if x.mean() < y.mean():\n",
    "            smean_count += 1 \n",
    "        if np.median(x) < np.median(y):\n",
    "            smedian_count += 1        \n",
    "        \n",
    "        (d, size) = cliffsDelta(x,y)\n",
    "        d = abs(d)\n",
    "        rq1_delivery_cliffs.append(d)\n",
    "        \n",
    "print('{} out of 87 projects have significant p-values'.format(p_count))\n",
    "print('{} out of {} projects deliver merged PRs more quickly after adopting CI(compared by mean)'.format(smean_count,p_count))\n",
    "print('{} out of {} projects deliver merged PRs more quickly after adopting CI(compared by median)'.format(smedian_count,p_count))\n",
    "# The results are pretty close. 73/87 and 39/87\n",
    "print('Median of Cliff\\'s delta values:' + str(statistics.median(rq1_delivery_cliffs))) \n",
    "# This result is quite diff. I get -0.07, original result was 0.304. "
   ]
  },
  {
   "cell_type": "code",
   "execution_count": 5,
   "metadata": {},
   "outputs": [
    {
     "name": "stdout",
     "output_type": "stream",
     "text": [
      "68 out of 87 projects have significant p-values\n",
      "22 out of 68 projects merge PRs more quickly after adopting CI(compared by mean)\n",
      "20 out of 68 projects merge PRs more quickly after adopting CI(compared by median)\n",
      "In 68 projects, 28 have negligible Cliff's delta value, 23 are small, 15 are medium and 2 are large\n",
      "Median of Cliff's delta values:0.194804519480346\n"
     ]
    }
   ],
   "source": [
    "## Result 2: In 73% (46/63) of the projects, PRs are merged faster before adopting CI.\n",
    "rq1_merge_neg,rq1_merge_small,rq1_merge_medium,rq1_merge_large = 0,0,0,0\n",
    "rq1_merge_cliffs = []\n",
    "smean_count, smedian_count, p_count = 0, 0, 0\n",
    "for name, group in time_data.groupby('project'):\n",
    "    x = group.loc[group.practice == 'CI']['merge_time'].values\n",
    "    y = group.loc[group.practice == 'NO-CI']['merge_time'].values\n",
    "    (statistic,pvalue) = mannwhitneyu(x,y)\n",
    "    if pvalue < 0.05:\n",
    "        p_count += 1\n",
    "        if x.mean() < y.mean():\n",
    "            smean_count += 1 \n",
    "        if np.median(x) < np.median(y):\n",
    "            smedian_count += 1\n",
    "        # calculate Cliff's delta for significant projects \n",
    "        (d, size) = cliffsDelta(x,y)\n",
    "        d = abs(d)\n",
    "        rq1_merge_cliffs.append(d)\n",
    "        if size == 'negligible':\n",
    "            rq1_merge_neg += 1\n",
    "        if size == 'small':\n",
    "            rq1_merge_small += 1\n",
    "        if size == 'medium':\n",
    "            rq1_merge_medium += 1\n",
    "        if size == 'large':\n",
    "            rq1_merge_large += 1 \n",
    "        \n",
    "print('{} out of 87 projects have significant p-values'.format(p_count))\n",
    "print('{} out of {} projects merge PRs more quickly after adopting CI(compared by mean)'.format(smean_count,p_count))\n",
    "print('{} out of {} projects merge PRs more quickly after adopting CI(compared by median)'.format(smedian_count,p_count))\n",
    "\n",
    "print('In {} projects, {} have negligible Cliff\\'s delta value, {} are small, {} are medium and {} are large' \n",
    "      .format(p_count,rq1_merge_neg,rq1_merge_small,rq1_merge_medium,rq1_merge_large))\n",
    "print('Median of Cliff\\'s delta values:' + str(statistics.median(rq1_merge_cliffs)) )\n",
    "\n",
    "# These results are different from the original study's. The R results are same. "
   ]
  },
  {
   "cell_type": "code",
   "execution_count": 7,
   "metadata": {},
   "outputs": [
    {
     "name": "stdout",
     "output_type": "stream",
     "text": [
      "63 out of 87 projects have significant p-values and with non-negligible Cliff's delta value\n",
      "39 out of 87 projects have a longer lifetime after adopting CI(compared by mean)\n",
      "38 out of 87 projects have a longer lifetime after adopting CI(compared by median).\n",
      "63 have negligible Cliff's delta value.\n",
      "\n",
      "29 out of 63 projects have a longer lifetime after adopting CI(compared by mean)\n",
      "30 out of 63 projects have a longer lifetime after adopting CI(compared by median).\n",
      "\n",
      "In 63 projects,28 are small with a median value 0.21,\n",
      "                  15 are medium with a median value 0.36,\n",
      "                  and 20 are large with a median value 0.604. \n",
      "\n",
      "Median of Cliff's delta values of all significant projects:0.338\n"
     ]
    }
   ],
   "source": [
    "# Result 3: Surprisingly, in 54% of the projects, PRs have a longer lifetime after adopting CI. \n",
    "rq1_lifet_cliffs, rq1_lifet_neg,rq1_lifet_small,rq1_lifet_medium,rq1_lifet_large = [],[],[],[],[]\n",
    "smean_count, smedian_count, p_count = 0, 0, 0\n",
    "smean_sig_count, smedian_sig_count = 0,0 \n",
    "for name, group in time_data.groupby('project'):\n",
    "    ci = group.loc[group.practice == 'CI']\n",
    "    nci= group.loc[group.practice == 'NO-CI']\n",
    "    x = ci['merge_time'].values + ci['delivery_time'].values\n",
    "    y = nci['merge_time'].values + nci['delivery_time'].values\n",
    "    if x.mean() < y.mean():\n",
    "        smean_count += 1 \n",
    "    if np.median(x) < np.median(y):\n",
    "        smedian_count += 1\n",
    "    \n",
    "    (statistic,pvalue) = mannwhitneyu(x,y)\n",
    "    (d, size) = cliffsDelta(x,y)\n",
    "    if size == 'negligible':\n",
    "        rq1_lifet_neg.append(d)\n",
    "    \n",
    "    if pvalue < 0.05 and size != 'negligible':\n",
    "        p_count += 1\n",
    "        d = abs(d)\n",
    "        rq1_lifet_cliffs.append(d)\n",
    "        if size == 'small':\n",
    "            rq1_lifet_small.append(d)\n",
    "        if size == 'medium':\n",
    "            rq1_lifet_medium.append(d)\n",
    "        if size == 'large':\n",
    "            rq1_lifet_large.append(d)\n",
    "            \n",
    "        if x.mean() < y.mean():\n",
    "            smean_sig_count += 1 \n",
    "        if np.median(x) < np.median(y):\n",
    "            smedian_sig_count += 1\n",
    "\n",
    "print('{} out of 87 projects have significant p-values and with non-negligible Cliff\\'s delta value'.format(p_count))\n",
    "print('{} out of 87 projects have a longer lifetime after adopting CI(compared by mean)'.format(smean_count))\n",
    "print('{} out of 87 projects have a longer lifetime after adopting CI(compared by median).'.format(smedian_count))\n",
    "print('{} have negligible Cliff\\'s delta value.\\n'.format(p_count,len(rq1_lifet_neg)))\n",
    "\n",
    "print('{} out of {} projects have a longer lifetime after adopting CI(compared by mean)'.format(smean_sig_count,p_count))\n",
    "print('{} out of {} projects have a longer lifetime after adopting CI(compared by median).\\n'.format(smedian_sig_count,p_count))\n",
    "\n",
    "print('In {} projects,{} are small with a median value {},\\n'\n",
    "    '                  {} are medium with a median value {},\\n '\n",
    "    '                 and {} are large with a median value {}. \\n' \n",
    "      .format(p_count, len(rq1_lifet_small), str(round(statistics.median(rq1_lifet_small),3)),\n",
    "              len(rq1_lifet_medium), str(round(statistics.median(rq1_lifet_medium),3)),\n",
    "              len(rq1_lifet_large), str(round(statistics.median(rq1_lifet_large),3))\n",
    "             )\n",
    "     )\n",
    "print('Median of Cliff\\'s delta values of all significant projects:' + str(round(statistics.median(rq1_lifet_cliffs),3)))"
   ]
  },
  {
   "cell_type": "markdown",
   "metadata": {},
   "source": [
    "## original paper - RQ2"
   ]
  },
  {
   "cell_type": "code",
   "execution_count": 9,
   "metadata": {},
   "outputs": [],
   "source": [
    "release_data = pd.read_csv('./releases_meta_data.csv')"
   ]
  },
  {
   "cell_type": "code",
   "execution_count": 10,
   "metadata": {},
   "outputs": [
    {
     "name": "stderr",
     "output_type": "stream",
     "text": [
      "D:\\venv\\lib\\site-packages\\matplotlib\\figure.py:445: UserWarning: Matplotlib is currently using module://ipykernel.pylab.backend_inline, which is a non-GUI backend, so cannot show the figure.\n",
      "  % get_backend())\n"
     ]
    },
    {
     "name": "stdout",
     "output_type": "stream",
     "text": [
      "created_pull_requests\n",
      "Median -- number of PRs per release of CI applied: 42.583333333333336\n",
      "Median -- number of PRs per release of CI not applied: 15.28888888888889\n",
      "7.733571961304654e-05 0.332276390540362 medium\n",
      "merged_pull_requests\n",
      "Median -- number of PRs per release of CI applied: 27.875\n",
      "Median -- number of PRs per release of CI not applied: 10.385714285714286\n",
      "3.948726224681528e-05 0.3466772360945964 medium\n",
      "----------------------------------------\n",
      "sum_submitted_pr_churn\n",
      "Median -- number of PRs per release of CI applied: 11581.82142857143\n",
      "Median -- number of PRs per release of CI not applied: 5097.0\n",
      "0.001136456924653437 0.26806711586735366 small\n"
     ]
    },
    {
     "data": {
      "image/png": "[encoded data removed]",
      "text/plain": [
       "<Figure size 432x288 with 1 Axes>"
      ]
     },
     "metadata": {
      "needs_background": "light"
     },
     "output_type": "display_data"
    },
    {
     "data": {
      "image/png": "[encoded data removed]",
      "text/plain": [
       "<Figure size 432x288 with 1 Axes>"
      ]
     },
     "metadata": {
      "needs_background": "light"
     },
     "output_type": "display_data"
    }
   ],
   "source": [
    "# result 1: 71.3% (62/87) of the projects increase PR submissions after adopting CI. \n",
    "def rq2_get_stat(col, conditional=True):\n",
    "    rq2_col_stat = release_data[['project', col, 'practice']]\n",
    "    project_summ_ci = {}\n",
    "    project_summ_nci = {}\n",
    "    for name, group in rq2_col_stat.groupby('project'):\n",
    "        # For code churn per release. \n",
    "        group = group.fillna(1)\n",
    "        \n",
    "        rq2_col_stat_ci = group.loc[group.practice == 'CI'][col].values\n",
    "        rq2_col_stat_nci= group.loc[group.practice == 'NO-CI'][col].values\n",
    "        project_summ_ci[name] = np.mean(rq2_col_stat_ci)\n",
    "        project_summ_nci[name] = np.mean(rq2_col_stat_nci)\n",
    "        \n",
    "    if conditional:\n",
    "        summ_ci = pd.DataFrame.from_dict(project_summ_ci, orient='index', columns=['value'])\n",
    "        summ_ci['practice'] = 'CI'\n",
    "        summ_ci = summ_ci.loc[summ_ci.value <= 150]\n",
    "        summ_nci = pd.DataFrame.from_dict(project_summ_nci, orient='index', columns=['value'])\n",
    "        summ_nci['practice'] = 'NO-CI'\n",
    "        summ_nci = summ_nci.loc[summ_nci.value <= 150]\n",
    "        fig = plt.figure()\n",
    "        _ax = sns.boxplot(x='practice', y='value', data=pd.concat([summ_ci, summ_nci], ignore_index=True))\n",
    "        _ax.set(ylim=(0,150), xlabel='practice', ylabel='Number of PRs per release')\n",
    "        pos = [0,1]\n",
    "        _values = [round(np.median(list(project_summ_ci.values())),2), round(np.median(np.median(list(project_summ_nci.values()))),2)]\n",
    "        for tick,label in zip(pos,_ax.get_xticklabels()):\n",
    "            _ax.text(pos[tick], _values[tick] + 1, _values[tick],horizontalalignment='center', size=12, color='w', weight='heavy')\n",
    "        \n",
    "        fig.show()\n",
    "        fig.savefig(col+\".pdf\", bbox_inches='tight')\n",
    "        \n",
    "    project_summ_ci = list(project_summ_ci.values())\n",
    "    project_summ_nci = list(project_summ_nci.values())\n",
    "\n",
    "    print(col)\n",
    "    # Have the most close results. Values bigger than 150 are not filtered out. \n",
    "    print('Median -- number of PRs per release of CI applied: {}'.format(np.median(project_summ_ci)))\n",
    "    print('Median -- number of PRs per release of CI not applied: {}'.format(np.median(project_summ_nci)))\n",
    "#         Though seems correct, but deviates from the original results \n",
    "#         print('Median -- number of PRs per release of CI applied: {}'.format(summ_ci['value'].describe()['50%']))\n",
    "#         print('Median -- number of PRs per release of CI not applied: {}'.format(summ_nci['value'].describe()['50%']))\n",
    "    # Have the most close results \n",
    "    (statistic,pvalue) = mannwhitneyu(project_summ_ci, project_summ_nci)\n",
    "    (d, size) = cliffsDelta(project_summ_ci, project_summ_nci)\n",
    "#     Though seems correct, but deviates from the original results \n",
    "#     (statistic,pvalue) = mannwhitneyu(list(summ_ci['value'].values), list(summ_nci['value'].values))\n",
    "#     (d, size) = cliffsDelta(list(summ_ci['value'].values), list(summ_nci['value'].values))\n",
    "    print(pvalue, d, size)\n",
    "    \n",
    "rq2_get_stat('created_pull_requests')\n",
    "rq2_get_stat('merged_pull_requests')\n",
    "print('-'*40)\n",
    "rq2_get_stat('sum_submitted_pr_churn',conditional=False)"
   ]
  },
  {
   "cell_type": "code",
   "execution_count": 11,
   "metadata": {},
   "outputs": [
    {
     "name": "stdout",
     "output_type": "stream",
     "text": [
      "released_pull_requests\n",
      "Median -- number of PRs per release of CI applied: 31.72222222222222\n",
      "Median -- number of PRs per release of CI not applied: 9.25\n",
      "6.828149076940126e-06 0.3819527018100145 medium\n"
     ]
    },
    {
     "data": {
      "image/png": "[encoded data removed]",
      "text/plain": [
       "<Figure size 432x288 with 1 Axes>"
      ]
     },
     "metadata": {
      "needs_background": "light"
     },
     "output_type": "display_data"
    }
   ],
   "source": [
    "# result 2: After adopting CI projects deliver 3.43 times more PRs per release than before CI. \n",
    "rq2_get_stat('released_pull_requests')"
   ]
  },
  {
   "cell_type": "code",
   "execution_count": 12,
   "metadata": {},
   "outputs": [
    {
     "name": "stderr",
     "output_type": "stream",
     "text": [
      "D:\\venv\\lib\\site-packages\\ipykernel_launcher.py:4: SettingWithCopyWarning: \n",
      "A value is trying to be set on a copy of a slice from a DataFrame.\n",
      "Try using .loc[row_indexer,col_indexer] = value instead\n",
      "\n",
      "See the caveats in the documentation: http://pandas.pydata.org/pandas-docs/stable/indexing.html#indexing-view-versus-copy\n",
      "  after removing the cwd from sys.path.\n",
      "D:\\venv\\lib\\site-packages\\ipykernel_launcher.py:5: SettingWithCopyWarning: \n",
      "A value is trying to be set on a copy of a slice from a DataFrame.\n",
      "Try using .loc[row_indexer,col_indexer] = value instead\n",
      "\n",
      "See the caveats in the documentation: http://pandas.pydata.org/pandas-docs/stable/indexing.html#indexing-view-versus-copy\n",
      "  \"\"\"\n"
     ]
    },
    {
     "name": "stdout",
     "output_type": "stream",
     "text": [
      "0.3012833463985016\n"
     ]
    },
    {
     "data": {
      "image/png": "[encoded data removed]",
      "text/plain": [
       "<Figure size 432x288 with 1 Axes>"
      ]
     },
     "metadata": {
      "needs_background": "light"
     },
     "output_type": "display_data"
    }
   ],
   "source": [
    "# result 3: We do not observe a significant diﬀerence of release frequency after adopting CI. \n",
    "tmp = pd.DataFrame()\n",
    "tmp = release_data[['startedAt','publishedAt','practice','project']]\n",
    "tmp['publishedDate'] = pd.to_datetime(tmp['publishedAt']).dt.date\n",
    "tmp['startedDate'] = pd.to_datetime(tmp['startedAt']).dt.date\n",
    "rq2_freq_ci = tmp.loc[tmp.practice=='CI']\n",
    "rq2_freq_nci =  tmp.loc[tmp.practice=='NO-CI']\n",
    "# project_name: {year:{ci/no-ci:frequency}}\n",
    "# project_name: mean of release/year \n",
    "rq2_deliv_freq_dict = {} \n",
    "rq2_deliv_freq_ci, rq2_deliv_freq_nci = {},{}\n",
    "# rq2_deliv_freq_x,rq2_deliv_freq_y = [],[]\n",
    "\n",
    "for proj, pgroup in tmp.groupby('project'):\n",
    "    rq2_freq_ci = pgroup.loc[pgroup.practice=='CI']\n",
    "    rq2_freq_nci =  pgroup.loc[pgroup.practice=='NO-CI']\n",
    "    first_ci_date = min(list(rq2_freq_ci['publishedDate'].values))\n",
    "    created_date = min(list(rq2_freq_nci['publishedDate'].values))\n",
    "    fetched_date = max(list(rq2_freq_ci['publishedDate'].values))\n",
    "    \n",
    "    years_nci = (first_ci_date - created_date).days/365\n",
    "    years_ci = (fetched_date - first_ci_date).days/365\n",
    "    rq2_deliv_freq_ci[proj] = rq2_freq_ci.shape[0]/years_ci\n",
    "    rq2_deliv_freq_nci[proj]= rq2_freq_nci.shape[0]/years_nci\n",
    "\n",
    "df_rq2_deliv_freq_ci = pd.DataFrame.from_dict(rq2_deliv_freq_ci, columns=['value'], orient='index')\n",
    "df_rq2_deliv_freq_ci['practice'] = 'CI'\n",
    "df_rq2_deliv_freq_ci = df_rq2_deliv_freq_ci.loc[df_rq2_deliv_freq_ci.value <= 50]\n",
    "df_rq2_deliv_freq_nci = pd.DataFrame.from_dict(rq2_deliv_freq_nci, columns=['value'], orient='index')\n",
    "df_rq2_deliv_freq_nci['practice'] = 'NO-CI'\n",
    "df_rq2_deliv_freq_nci = df_rq2_deliv_freq_nci.loc[df_rq2_deliv_freq_nci.value <= 50]\n",
    "ax = sns.boxplot(x='practice',y='value', data=pd.concat([df_rq2_deliv_freq_ci,df_rq2_deliv_freq_nci], ignore_index=True))\n",
    "ax.set(xlabel='practice', ylabel='release/year')\n",
    "pos = [0,1]\n",
    "_values = [round(np.median(list(rq2_deliv_freq_ci.values())),2), round(np.median(list(rq2_deliv_freq_nci.values())), 2)]\n",
    "for tick,label in zip(pos,ax.get_xticklabels()):\n",
    "    ax.text(pos[tick], _values[tick] + 1, _values[tick],horizontalalignment='center', size=10, color='w', weight='semibold')\n",
    "\n",
    "(statistic,pvalue) = mannwhitneyu(list(rq2_deliv_freq_ci.values()),list(rq2_deliv_freq_nci.values()))\n",
    "print(pvalue)"
   ]
  },
  {
   "cell_type": "code",
   "execution_count": null,
   "metadata": {},
   "outputs": [],
   "source": []
  }
 ],
 "metadata": {
  "kernelspec": {
   "display_name": "Python 3",
   "language": "python",
   "name": "python3"
  },
  "language_info": {
   "codemirror_mode": {
    "name": "ipython",
    "version": 3
   },
   "file_extension": ".py",
   "mimetype": "text/x-python",
   "name": "python",
   "nbconvert_exporter": "python",
   "pygments_lexer": "ipython3",
   "version": "3.6.5"
  }
 },
 "nbformat": 4,
 "nbformat_minor": 1
}
